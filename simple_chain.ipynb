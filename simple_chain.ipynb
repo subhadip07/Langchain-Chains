{
 "cells": [
  {
   "cell_type": "markdown",
   "id": "ad8b9ddf",
   "metadata": {},
   "source": [
    "### Simple Chains"
   ]
  },
  {
   "cell_type": "markdown",
   "id": "fd458966",
   "metadata": {},
   "source": [
    "* LangChain provides various chain types that allow developers to build and customize workflows for natural language processing tasks.\n",
    "* These chain types help streamline the integration of language models and other tools into applications. So basically a chain type is nothing more than tying together a series of tasks where we are chaining together different task and we are passing the input from the first one over to the next one.\n",
    "* The pipe operator is used to act like a chain for each sub sequent tasks."
   ]
  },
  {
   "cell_type": "code",
   "execution_count": 2,
   "id": "d4116116",
   "metadata": {},
   "outputs": [
    {
     "data": {
      "text/plain": [
       "True"
      ]
     },
     "execution_count": 2,
     "metadata": {},
     "output_type": "execute_result"
    }
   ],
   "source": [
    "from langchain_groq import ChatGroq\n",
    "from dotenv import load_dotenv\n",
    "from langchain_core.prompts import PromptTemplate\n",
    "from langchain_core.output_parsers import StrOutputParser\n",
    "\n",
    "load_dotenv()"
   ]
  },
  {
   "cell_type": "code",
   "execution_count": 3,
   "id": "a5b69aba",
   "metadata": {},
   "outputs": [],
   "source": [
    "model = ChatGroq(model='llama-3.1-8b-instant')"
   ]
  },
  {
   "cell_type": "code",
   "execution_count": 4,
   "id": "d40baac6",
   "metadata": {},
   "outputs": [],
   "source": [
    "prompt = PromptTemplate(\n",
    "    template='Generate 5 interesting facts about {topic}',\n",
    "    input_variables=['topic']\n",
    ")"
   ]
  },
  {
   "cell_type": "code",
   "execution_count": 5,
   "id": "6691613a",
   "metadata": {},
   "outputs": [],
   "source": [
    "parser = StrOutputParser()"
   ]
  },
  {
   "cell_type": "code",
   "execution_count": 6,
   "id": "8e3549c0",
   "metadata": {},
   "outputs": [],
   "source": [
    "chain = prompt | model | parser"
   ]
  },
  {
   "cell_type": "code",
   "execution_count": 7,
   "id": "1c56e955",
   "metadata": {},
   "outputs": [],
   "source": [
    "result = chain.invoke({'topic':'Football'})"
   ]
  },
  {
   "cell_type": "code",
   "execution_count": 9,
   "id": "a1d2e327",
   "metadata": {},
   "outputs": [
    {
     "name": "stdout",
     "output_type": "stream",
     "text": [
      "Here are 5 interesting facts about football:\n",
      "\n",
      "1. **The First Football Game**: The first intercollegiate football game was played on November 6, 1869, between Rutgers University and Princeton University. Rutgers won 6-4, but the game was more like soccer, with 25 players on each side and a round ball. It wasn't until 1876 that the Intercollegiate Football Association (IFA) adopted rules similar to modern football.\n",
      "\n",
      "2. **The Longest NFL Game**: The longest game in NFL history was played between the Chicago Bears and the Washington Redskins on November 27, 1963. The game went into triple overtime and ended with a score of 31-17 in favor of the Bears. The game lasted for 3 hours and 41 minutes.\n",
      "\n",
      "3. **The Fastest Goal in History**: The fastest goal in football history was scored by Sadio Mané of Senegal in a 2018 World Cup match against Panama. Mané scored after just 12 seconds, setting a new record for the fastest goal in World Cup history.\n",
      "\n",
      "4. **The Highest Attendance**: The highest attendance in football history was recorded at the 1950 World Cup final between Brazil and Uruguay, which was played at the Maracanã Stadium in Rio de Janeiro. The attendance was 199,854, but it's worth noting that the stadium was not designed to hold that many people, and many spectators were standing in the aisles.\n",
      "\n",
      "5. **The Most Expensive Transfer**: The most expensive transfer in football history was the transfer of Neymar Jr. from Barcelona to Paris Saint-Germain (PSG) in 2017. The transfer fee was €222 million, but the total cost, including bonuses and agent fees, was estimated to be around €417 million.\n"
     ]
    }
   ],
   "source": [
    "print(result)"
   ]
  },
  {
   "cell_type": "code",
   "execution_count": 11,
   "id": "3ad119e8",
   "metadata": {},
   "outputs": [
    {
     "name": "stdout",
     "output_type": "stream",
     "text": [
      "     +-------------+       \n",
      "     | PromptInput |       \n",
      "     +-------------+       \n",
      "            *              \n",
      "            *              \n",
      "            *              \n",
      "    +----------------+     \n",
      "    | PromptTemplate |     \n",
      "    +----------------+     \n",
      "            *              \n",
      "            *              \n",
      "            *              \n",
      "      +----------+         \n",
      "      | ChatGroq |         \n",
      "      +----------+         \n",
      "            *              \n",
      "            *              \n",
      "            *              \n",
      "   +-----------------+     \n",
      "   | StrOutputParser |     \n",
      "   +-----------------+     \n",
      "            *              \n",
      "            *              \n",
      "            *              \n",
      "+-----------------------+  \n",
      "| StrOutputParserOutput |  \n",
      "+-----------------------+  \n"
     ]
    }
   ],
   "source": [
    "chain.get_graph().print_ascii()"
   ]
  },
  {
   "cell_type": "code",
   "execution_count": null,
   "id": "43b53bdc",
   "metadata": {},
   "outputs": [],
   "source": []
  }
 ],
 "metadata": {
  "kernelspec": {
   "display_name": "langchain-chains",
   "language": "python",
   "name": "python3"
  },
  "language_info": {
   "codemirror_mode": {
    "name": "ipython",
    "version": 3
   },
   "file_extension": ".py",
   "mimetype": "text/x-python",
   "name": "python",
   "nbconvert_exporter": "python",
   "pygments_lexer": "ipython3",
   "version": "3.13.1"
  }
 },
 "nbformat": 4,
 "nbformat_minor": 5
}

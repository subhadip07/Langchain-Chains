{
 "cells": [
  {
   "cell_type": "markdown",
   "id": "3dc2a17d",
   "metadata": {},
   "source": [
    "### Sequential Chain or Extended Chain"
   ]
  },
  {
   "cell_type": "code",
   "execution_count": 1,
   "id": "120e4629",
   "metadata": {},
   "outputs": [
    {
     "data": {
      "text/plain": [
       "True"
      ]
     },
     "execution_count": 1,
     "metadata": {},
     "output_type": "execute_result"
    }
   ],
   "source": [
    "from langchain_groq import ChatGroq\n",
    "from dotenv import load_dotenv\n",
    "from langchain_core.prompts import PromptTemplate\n",
    "from langchain_core.output_parsers import StrOutputParser\n",
    "\n",
    "load_dotenv()"
   ]
  },
  {
   "cell_type": "code",
   "execution_count": 2,
   "id": "b23d9eb3",
   "metadata": {},
   "outputs": [],
   "source": [
    "model = ChatGroq(model='llama-3.1-8b-instant')"
   ]
  },
  {
   "cell_type": "code",
   "execution_count": 3,
   "id": "e8a8cd21",
   "metadata": {},
   "outputs": [],
   "source": [
    "prompt1 = PromptTemplate(\n",
    "    template='Generate a detailed report on {topic}',\n",
    "    input_variables=['topic']\n",
    ")"
   ]
  },
  {
   "cell_type": "code",
   "execution_count": 4,
   "id": "013ec85c",
   "metadata": {},
   "outputs": [],
   "source": [
    "prompt2 = PromptTemplate(\n",
    "    template='Generate a 5 pointer summary from the following text \\n {text}',\n",
    "    input_variables=['text']\n",
    ")"
   ]
  },
  {
   "cell_type": "code",
   "execution_count": 5,
   "id": "bed89acd",
   "metadata": {},
   "outputs": [],
   "source": [
    "parser = StrOutputParser()"
   ]
  },
  {
   "cell_type": "code",
   "execution_count": 6,
   "id": "9eeecce0",
   "metadata": {},
   "outputs": [],
   "source": [
    "chain = prompt1 | model | parser | prompt2 | model | parser"
   ]
  },
  {
   "cell_type": "code",
   "execution_count": 7,
   "id": "86324b48",
   "metadata": {},
   "outputs": [],
   "source": [
    "result = chain.invoke({'topic': 'Machine Learning'})"
   ]
  },
  {
   "cell_type": "code",
   "execution_count": 8,
   "id": "172235b7",
   "metadata": {},
   "outputs": [
    {
     "name": "stdout",
     "output_type": "stream",
     "text": [
      "Here's a 5-point summary of the Machine Learning Report:\n",
      "\n",
      "1. **Definition and Overview**: Machine learning (ML) is a subset of artificial intelligence (AI) that enables machines to learn from data without being explicitly programmed. It has revolutionized various industries, including healthcare, finance, transportation, and education, by providing insights and automating tasks.\n",
      "\n",
      "2. **Types of Machine Learning**: There are three primary types of machine learning: supervised learning, unsupervised learning, and reinforcement learning. Supervised learning involves training on labeled data, unsupervised learning involves finding patterns in unlabeled data, and reinforcement learning involves learning by interacting with an environment.\n",
      "\n",
      "3. **Machine Learning Techniques**: Popular machine learning techniques include linear regression, decision trees, random forest, support vector machines (SVMs), and neural networks. These techniques are used for classification, regression, and feature learning, and have various applications across industries.\n",
      "\n",
      "4. **Applications and Challenges**: Machine learning has a wide range of applications, including image recognition, natural language processing, predictive maintenance, recommendation systems, and healthcare. However, it also has challenges and limitations, including data quality, overfitting, bias and fairness, explainability, and security.\n",
      "\n",
      "5. **Future of Machine Learning**: The future of machine learning is exciting and rapidly evolving. Trends and predictions include increased adoption across industries, advances in deep learning, greater emphasis on explainability and transparency, edge AI, and human-machine collaboration.\n"
     ]
    }
   ],
   "source": [
    "print(result)"
   ]
  },
  {
   "cell_type": "code",
   "execution_count": 9,
   "id": "20baa2fa",
   "metadata": {},
   "outputs": [
    {
     "name": "stdout",
     "output_type": "stream",
     "text": [
      "     +-------------+       \n",
      "     | PromptInput |       \n",
      "     +-------------+       \n",
      "            *              \n",
      "            *              \n",
      "            *              \n",
      "    +----------------+     \n",
      "    | PromptTemplate |     \n",
      "    +----------------+     \n",
      "            *              \n",
      "            *              \n",
      "            *              \n",
      "      +----------+         \n",
      "      | ChatGroq |         \n",
      "      +----------+         \n",
      "            *              \n",
      "            *              \n",
      "            *              \n",
      "   +-----------------+     \n",
      "   | StrOutputParser |     \n",
      "   +-----------------+     \n",
      "            *              \n",
      "            *              \n",
      "            *              \n",
      "+-----------------------+  \n",
      "| StrOutputParserOutput |  \n",
      "+-----------------------+  \n",
      "            *              \n",
      "            *              \n",
      "            *              \n",
      "    +----------------+     \n",
      "    | PromptTemplate |     \n",
      "    +----------------+     \n",
      "            *              \n",
      "            *              \n",
      "            *              \n",
      "      +----------+         \n",
      "      | ChatGroq |         \n",
      "      +----------+         \n",
      "            *              \n",
      "            *              \n",
      "            *              \n",
      "   +-----------------+     \n",
      "   | StrOutputParser |     \n",
      "   +-----------------+     \n",
      "            *              \n",
      "            *              \n",
      "            *              \n",
      "+-----------------------+  \n",
      "| StrOutputParserOutput |  \n",
      "+-----------------------+  \n"
     ]
    }
   ],
   "source": [
    "chain.get_graph().print_ascii()"
   ]
  },
  {
   "cell_type": "code",
   "execution_count": null,
   "id": "1068376c",
   "metadata": {},
   "outputs": [],
   "source": []
  }
 ],
 "metadata": {
  "kernelspec": {
   "display_name": "langchain-chains",
   "language": "python",
   "name": "python3"
  },
  "language_info": {
   "codemirror_mode": {
    "name": "ipython",
    "version": 3
   },
   "file_extension": ".py",
   "mimetype": "text/x-python",
   "name": "python",
   "nbconvert_exporter": "python",
   "pygments_lexer": "ipython3",
   "version": "3.13.1"
  }
 },
 "nbformat": 4,
 "nbformat_minor": 5
}
